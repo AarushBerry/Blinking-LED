{
 "cells": [
  {
   "cell_type": "code",
   "execution_count": null,
   "metadata": {},
   "outputs": [],
   "source": [
    "void setup()\n",
    "{pinMode(13,OUTPUT);}\n",
    " \n",
    " void loop(){\n",
    "   digitalWrite(13, LOW);\n",
    "   delay(1000);\n",
    "   digitalWrite(13, HIGH);\n",
    "   delay(2000)\n",
    " }"
   ]
  }
 ],
 "metadata": {
  "language_info": {
   "name": "python"
  },
  "orig_nbformat": 4
 },
 "nbformat": 4,
 "nbformat_minor": 2
}
